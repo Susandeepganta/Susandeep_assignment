{
  "nbformat": 4,
  "nbformat_minor": 0,
  "metadata": {
    "colab": {
      "provenance": [],
      "collapsed_sections": []
    },
    "kernelspec": {
      "name": "python3",
      "display_name": "Python 3"
    },
    "language_info": {
      "name": "python"
    }
  },
  "cells": [
    {
      "cell_type": "code",
      "execution_count": 1,
      "metadata": {
        "id": "vghEyHczHNzx"
      },
      "outputs": [],
      "source": [
        "import numpy"
      ]
    },
    {
      "cell_type": "markdown",
      "source": [
        "**Question 1**\n",
        "Write a python code for converting integer values to Indian currency notations, without\n",
        "using the currency libraries\n",
        "Example:\n",
        "- input: 504678\n",
        "- output: 5,04,67"
      ],
      "metadata": {
        "id": "9ZeOGv5HHR5J"
      }
    },
    {
      "cell_type": "code",
      "source": [
        "def indian_currency(number):\n",
        "  # Converting the number into a list like this - [\"9\",\"8\",\"7\",\"6\",'5',\"4\",\"3\",\"2\",\"1\"]\n",
        "  e = list(str(number))\n",
        "  # Creating a for loop to loop through the list from the starting till the last 3rd element, the second slicing [1:] ignores the first term of the list.\n",
        "  for i in range(len(e))[-2::-2][1:]:\n",
        "    # We receive elements in step of 2 to so we are inserting comma just ahead of it therefore we have added (i+1)\n",
        "    e.insert(i+1,',')\n",
        "    # Joining the all the element to get a number.\n",
        "  result = \"\".join(e)\n",
        "  # Displaying the output\n",
        "  return (f\"The output indian currency : {result}\")"
      ],
      "metadata": {
        "id": "Jss7Py4-ZiVa"
      },
      "execution_count": 2,
      "outputs": []
    },
    {
      "cell_type": "code",
      "source": [
        "a = int(input(\"input the number: \"))\n",
        "indian_currency(a)"
      ],
      "metadata": {
        "colab": {
          "base_uri": "https://localhost:8080/",
          "height": 54
        },
        "id": "AwSI-6G2hmkC",
        "outputId": "0e64318a-49d1-492b-d992-933ac6e5329b"
      },
      "execution_count": 3,
      "outputs": [
        {
          "name": "stdout",
          "output_type": "stream",
          "text": [
            "input the number: 987654321\n"
          ]
        },
        {
          "output_type": "execute_result",
          "data": {
            "text/plain": [
              "'The output indian currency : 98,76,54,321'"
            ],
            "application/vnd.google.colaboratory.intrinsic+json": {
              "type": "string"
            }
          },
          "metadata": {},
          "execution_count": 3
        }
      ]
    },
    {
      "cell_type": "markdown",
      "source": [
        "**Question 2**\n",
        "\n",
        "You won’t get caught if you hide behind someone.”\n",
        "Sang-Woo advises Gi-Hun to hide behind someone to avoid getting shot.\n",
        "Gi-Hun follows Sang-Woo's advice and hides behind Ali, who saved his life earlier. Gi-Hun and Ali both have the same height, K\n",
        "- Many players saw this trick and also started hiding behind Ali.\n",
        "Now, there are N\n",
        "players standing between Gi-Hun and Ali in a straight line, with the ith player having height Hi\n",
        "-  Gi-Hun wants to know the minimum number of players who need to get shot so that Ali is visible\n",
        "in his line of sight.\n",
        "\n",
        "\n",
        "***Note:***\n",
        "\n",
        "- Line of sight is a straight line drawn between the topmost point of two objects. Ali is visible to Gi-Hun if nobody between them crosses this line.\n",
        "- Even if there are some players who have the same height as that of Gi-Hun and Ali, Ali will be visible in Gi-Hun's line of sight.\n",
        "- Gi-Hun and Ali have the same height.\n",
        "\n",
        "***Input Format***\n",
        "\n",
        "- The first line of input contains a single integer T, denoting the number of test cases. The description of T test cases follows.\n",
        "- The first line of each test case contains two space-separated integers N and K denoting the total number of players between Gi-Hun and Ali and the height of both of them respectively.\n",
        "- The second line of each test case contains N space-separated integers, denoting the heights of the players between Gi-Hun and Ali.\n",
        "\n",
        "\n",
        "***Output Format***\n",
        "\n",
        "\n",
        "For each test case, output in a single line the minimum number of players who need to get shot so\n",
        "that Ali is visible in Gi-Hun's line of sight.\n",
        "\n",
        "\n",
        "***Constraints***\n",
        "• 1≤T≤105\n",
        "• 1≤N≤105\n",
        "• 1≤K≤106\n",
        "• 1≤Hi≤106 for every 1≤i≤N\n",
        "• .\n",
        "• The sum of N across all test cases does not exceed 5⋅105\n",
        "\n",
        "\n",
        "***Sample Input 1***\n",
        "\n",
        "3\n",
        "\n",
        "4 10\n",
        "\n",
        "2 13 4 16\n",
        "\n",
        "5 8\n",
        "\n",
        "9 3 8 8 4\n",
        "\n",
        "4 6\n",
        "\n",
        "1 2 3 4\n",
        "\n",
        "\n",
        "\n",
        "***Sample Output 1***\n",
        "\n",
        "2\n",
        "\n",
        "1\n",
        "\n",
        "0\n",
        "\n",
        "\n",
        "**Explanation**\n",
        "\n",
        "***Test Case 1:*** Gi-Hun and Ali have height 10\n",
        ". For Ali to be visible to Gi-Hun, the second person (with height 13) and the fourth person (with\n",
        "height 16) need to get shot. Hence, the minimum number of players who need to get shot is 2.\n",
        "\n",
        "\n",
        "***Test Case 2:*** Gi-Hun and Ali have height 8\n",
        ". For Ali to be visible to Gi-Hun, the first person (with height 9) needs to get shot. Hence, the\n",
        "minimum number of players who need to get shot is 1.\n",
        "\n",
        "\n",
        "***Test Case 3:*** Nobody needs to get shot because everyone is shorter than Gi-Hun and Ali."
      ],
      "metadata": {
        "id": "TwlcOkf_dl-k"
      }
    },
    {
      "cell_type": "code",
      "source": [
        "# Accepting the number of test cases to be conducted.\n",
        "T = int(input(\"Number of Test cases? : \"))\n",
        "\n",
        "# Running a for loop to take inputs for the number of test cases we have, for example if we have T= 2 which means we need data for 2 test cases.\n",
        "for i in range(T):\n",
        "  print(\"=\"*200) # Creating a boundary.\n",
        "  print(f\"Test Case number :{i+1} \") # Displaying the Test case number.\n",
        "  N = int(input(\"Enter the number of people between Gi-Hun and Ali : \")) # accepting input for number of people between Gi-Hun and Ali\n",
        "  K = int(input(\"Enter the height of the Gi-Hun and Ali : \")) # accepting input for height of the Gi-Hun and Ali\n",
        "  list_heights=[] # creating an empty list to store all the heights that we get as an output so that we can compare that with the height of Gi-Hun and Ali.\n",
        "  for j in range(N): # Runnning for loop to take the number of heights between Gi-Hun and Ali. \n",
        "    Hi = (input(\"Enter the heights of other people : \")) # accepting input to get heights of the people.\n",
        "    list_heights.append(Hi) # adding those heights to the list_height.\n",
        "  count=0 # creating a dummy variable so that we can have a count of people who have heights greater than Gi-Hun and Ali. \n",
        "  for l in (list_heights):\n",
        "    if K< int(l): # comparing the height of Gi-Hun and Ali and the other people. \n",
        "      count+=1 # If the height is greater than that of Gi-Hun and Ali then the variable count will be increased by 1. \n",
        "  print(f\"Minimum number of people to be shot for a clear line between Gi-Hun and Ali : {count}\") # Printing the ouput. \n",
        "  print(\"=\"*200)\n",
        "\n"
      ],
      "metadata": {
        "colab": {
          "base_uri": "https://localhost:8080/"
        },
        "id": "p5pnj3BFvvNV",
        "outputId": "513b5b4f-0596-4812-f2ec-871fc219d22b"
      },
      "execution_count": 4,
      "outputs": [
        {
          "output_type": "stream",
          "name": "stdout",
          "text": [
            "Number of Test cases? : 3\n",
            "========================================================================================================================================================================================================\n",
            "Test Case number :1 \n",
            "Enter the number of people between Gi-Hun and Ali : 4\n",
            "Enter the height of the Gi-Hun and Ali : 10\n",
            "Enter the heights of other people : 2\n",
            "Enter the heights of other people : 14\n",
            "Enter the heights of other people : 4\n",
            "Enter the heights of other people : 16\n",
            "Minimum number of people to be shot for a clear line between Gi-Hun and Ali : 2\n",
            "========================================================================================================================================================================================================\n",
            "========================================================================================================================================================================================================\n",
            "Test Case number :2 \n",
            "Enter the number of people between Gi-Hun and Ali : 5\n",
            "Enter the height of the Gi-Hun and Ali : 8\n",
            "Enter the heights of other people : 9\n",
            "Enter the heights of other people : 3\n",
            "Enter the heights of other people : 8\n",
            "Enter the heights of other people : 8\n",
            "Enter the heights of other people : 4\n",
            "Minimum number of people to be shot for a clear line between Gi-Hun and Ali : 1\n",
            "========================================================================================================================================================================================================\n",
            "========================================================================================================================================================================================================\n",
            "Test Case number :3 \n",
            "Enter the number of people between Gi-Hun and Ali : 4\n",
            "Enter the height of the Gi-Hun and Ali : 6\n",
            "Enter the heights of other people : 1\n",
            "Enter the heights of other people : 2\n",
            "Enter the heights of other people : 6\n",
            "Enter the heights of other people : 4\n",
            "Minimum number of people to be shot for a clear line between Gi-Hun and Ali : 0\n",
            "========================================================================================================================================================================================================\n"
          ]
        }
      ]
    }
  ]
}